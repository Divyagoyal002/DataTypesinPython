{
 "cells": [
  {
   "cell_type": "code",
   "execution_count": 1,
   "id": "14cb00fb",
   "metadata": {},
   "outputs": [],
   "source": [
    "#synatx:[variable for variable in itrable]"
   ]
  },
  {
   "cell_type": "code",
   "execution_count": 4,
   "id": "3d0f4a5d",
   "metadata": {},
   "outputs": [
    {
     "name": "stdout",
     "output_type": "stream",
     "text": [
      "[1, 2, 3, 4, 5, 6, 7, 8, 9, 10]\n"
     ]
    }
   ],
   "source": [
    "a=[]\n",
    "for i in range(1,11):\n",
    "    a.append(i)\n",
    "print(a)    "
   ]
  },
  {
   "cell_type": "code",
   "execution_count": 1,
   "id": "eb0c6a44",
   "metadata": {},
   "outputs": [
    {
     "name": "stdout",
     "output_type": "stream",
     "text": [
      "[1, 2, 3, 4, 5, 6, 7, 8, 9, 10]\n"
     ]
    }
   ],
   "source": [
    "a=[i for i in range(1,11)]\n",
    "print(a)"
   ]
  },
  {
   "cell_type": "code",
   "execution_count": 7,
   "id": "f8b9aa95",
   "metadata": {},
   "outputs": [
    {
     "name": "stdout",
     "output_type": "stream",
     "text": [
      "[80, 94, 92, 77]\n",
      "[92, 77, 73]\n",
      "[80, 94, 92]\n",
      "5\n",
      "[80, 94, 92, 77, 84, 73]\n",
      "6\n",
      "[80, 94, 92, 77, 84, 73, 96]\n",
      "7\n",
      "[]\n"
     ]
    }
   ],
   "source": [
    "#printing sub-list\n",
    "marks=[80,94,92,77,73]\n",
    "print(marks[0:4])\n",
    "print(marks[2:6])\n",
    "print(marks[0:3])\n",
    "print(len(marks))\n",
    "#adding list item at an index\n",
    "marks.insert(4,84) \n",
    "print(marks)\n",
    "print(len(marks))\n",
    "marks.insert(7,96)\n",
    "print(marks)\n",
    "print(len(marks))\n",
    "#clear funtion empties the list\n",
    "marks.clear()\n",
    "print(marks)"
   ]
  },
  {
   "cell_type": "code",
   "execution_count": null,
   "id": "def6a670",
   "metadata": {},
   "outputs": [],
   "source": []
  }
 ],
 "metadata": {
  "kernelspec": {
   "display_name": "Python 3 (ipykernel)",
   "language": "python",
   "name": "python3"
  },
  "language_info": {
   "codemirror_mode": {
    "name": "ipython",
    "version": 3
   },
   "file_extension": ".py",
   "mimetype": "text/x-python",
   "name": "python",
   "nbconvert_exporter": "python",
   "pygments_lexer": "ipython3",
   "version": "3.9.7"
  }
 },
 "nbformat": 4,
 "nbformat_minor": 5
}
