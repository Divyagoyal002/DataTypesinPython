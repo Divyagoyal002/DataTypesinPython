{
 "cells": [
  {
   "cell_type": "code",
   "execution_count": 7,
   "id": "f3a9aa6c",
   "metadata": {},
   "outputs": [
    {
     "name": "stdout",
     "output_type": "stream",
     "text": [
      "['splitting', 'a', 'string', 'in', 'python', 'programming']\n",
      "longest string is: programming\n"
     ]
    }
   ],
   "source": [
    "#findin the longest string in a sentence(string)\n",
    "s=\"splitting a string in python programming\"\n",
    "l=s.split(\" \")\n",
    "b=0\n",
    "e=\"\"\n",
    "print(l)\n",
    "for i in l:\n",
    "    if b<len(i):\n",
    "        b=len(i)\n",
    "        e=i\n",
    "print(\"longest string is:\",e)\n",
    "        "
   ]
  },
  {
   "cell_type": "code",
   "execution_count": 1,
   "id": "dd23724c",
   "metadata": {},
   "outputs": [
    {
     "name": "stdout",
     "output_type": "stream",
     "text": [
      "enter a stringRishabh Goyal\n",
      "Gishabh Royal\n"
     ]
    }
   ],
   "source": [
    "#interchanging the initials of two words in a string\n",
    "s=input(\"enter a string\")\n",
    "l=s.split(\" \")\n",
    "N1=l[0][0] #fist index denotes index of elemnt in l,second index denotes index of albhabets in that elements\n",
    "N2=l[1][0]\n",
    "s1=N2+l[0][1:]+\" \"+N1+l[1][1:]\n",
    "print(s1)\n"
   ]
  },
  {
   "cell_type": "code",
   "execution_count": null,
   "id": "fb8102b2",
   "metadata": {},
   "outputs": [],
   "source": []
  }
 ],
 "metadata": {
  "kernelspec": {
   "display_name": "Python 3 (ipykernel)",
   "language": "python",
   "name": "python3"
  },
  "language_info": {
   "codemirror_mode": {
    "name": "ipython",
    "version": 3
   },
   "file_extension": ".py",
   "mimetype": "text/x-python",
   "name": "python",
   "nbconvert_exporter": "python",
   "pygments_lexer": "ipython3",
   "version": "3.9.7"
  }
 },
 "nbformat": 4,
 "nbformat_minor": 5
}
