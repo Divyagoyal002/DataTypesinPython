{
 "cells": [
  {
   "cell_type": "code",
   "execution_count": null,
   "id": "f5443330",
   "metadata": {},
   "outputs": [],
   "source": [
    "a=[]\n",
    "r=int(input(\"enter row\"))\n",
    "c=int(input(\"enter column\"))\n",
    "for i in range(1,r+1):\n",
    "    b=[]\n",
    "    print(\"enter\",c,\"values for row\",i)\n",
    "    for j in range(1,c+1):\n",
    "        t=int(input())\n",
    "        b.append(t)\n",
    "    a.append(b)      \n",
    "print(\"your matrix:\")\n",
    "for i in a:\n",
    "    for j in i:\n",
    "          print(j,end=\" \")\n",
    "    print()             "
   ]
  }
 ],
 "metadata": {
  "kernelspec": {
   "display_name": "Python 3 (ipykernel)",
   "language": "python",
   "name": "python3"
  },
  "language_info": {
   "codemirror_mode": {
    "name": "ipython",
    "version": 3
   },
   "file_extension": ".py",
   "mimetype": "text/x-python",
   "name": "python",
   "nbconvert_exporter": "python",
   "pygments_lexer": "ipython3",
   "version": "3.9.7"
  }
 },
 "nbformat": 4,
 "nbformat_minor": 5
}
