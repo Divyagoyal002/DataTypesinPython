{
 "cells": [
  {
   "cell_type": "markdown",
   "id": "e0199dcc",
   "metadata": {},
   "source": [
    "**DEFAULT DICTIONARY** <br>\n",
    "The python standard library provides collections,which is a module thatimplements specialisation container types. One of those in the Python defaultdict types,which is an alternative to dict that's specifically designed to help  you out with missing key .default dic is a Python type That inherits from dict."
   ]
  },
  {
   "cell_type": "code",
   "execution_count": 2,
   "id": "19a9e651",
   "metadata": {},
   "outputs": [
    {
     "data": {
      "text/plain": [
       "True"
      ]
     },
     "execution_count": 2,
     "metadata": {},
     "output_type": "execute_result"
    }
   ],
   "source": [
    "from collections import defaultdict\n",
    "issubclass(defaultdict,dict)"
   ]
  },
  {
   "cell_type": "markdown",
   "id": "3a5bcd21",
   "metadata": {},
   "source": [
    "**The main difference between defaultdict and dict is that when you try to access or modify a key that's not present in the dictionary,a default value is automatically given to that kay in order to provide this functionality,the Python audit type does two things:** <br>\n",
    "1 It overrides **missing()** <br>\n",
    "2 It adds default_factory, a writable instance variable that needs to be provided at the time of instantation <br>\n",
    "\n",
    "**How is defaultdict different** <br>\n",
    "The default is subdivision of the dict class.Its importance lies in the fact that it allows each new key to be given a default value based on the type of dectionary being created.<br.\n",
    "A default dictionary can be created by giving its declaration an argument that can have three values: list, set or int. According to the specified data type."
   ]
  },
  {
   "cell_type": "code",
   "execution_count": 3,
   "id": "3f6a3881",
   "metadata": {},
   "outputs": [
    {
     "name": "stdout",
     "output_type": "stream",
     "text": [
      "0\n"
     ]
    }
   ],
   "source": [
    "from collections import defaultdict\n",
    "#In this case, we have passed int as the datatype to the defaultdict. #Hence, any key that does not exist in defaultdict \n",
    "#demo will be assigned a value of 0, unless a value is defined for it. \n",
    "defaultdict_demo=defaultdict(int)\n",
    "print(defaultdict_demo[3])\n",
    "\n"
   ]
  },
  {
   "cell_type": "markdown",
   "id": "7806d983",
   "metadata": {},
   "source": [
    "**Giving set as the parameter** <br>\n",
    "\n",
    "1. This results in a dictionary of sets being formed. <br>\n",
    "2. Hence, given that the same key has two different values. <br>\n",
    "3. they are assigned to the key as a set of values.<br>\n",
    "4. An empty key, three, is simply assigned an empty set.<br>\n"
   ]
  },
  {
   "cell_type": "code",
   "execution_count": 9,
   "id": "d93d75be",
   "metadata": {},
   "outputs": [
    {
     "data": {
      "text/plain": [
       "set()"
      ]
     },
     "execution_count": 9,
     "metadata": {},
     "output_type": "execute_result"
    }
   ],
   "source": [
    "from collections import defaultdict\n",
    "\n",
    "defaultdict_demo = defaultdict(set)\n",
    "\n",
    "defaultdict_demo[\"one\"].add(1)\n",
    "defaultdict_demo[\"Two\"].add(2) \n",
    "defaultdict_demo[\"one\"].add('1')\n",
    "defaultdict_demo[\"Three\"]"
   ]
  },
  {
   "cell_type": "code",
   "execution_count": null,
   "id": "aaba32be",
   "metadata": {},
   "outputs": [],
   "source": []
  }
 ],
 "metadata": {
  "kernelspec": {
   "display_name": "Python 3 (ipykernel)",
   "language": "python",
   "name": "python3"
  },
  "language_info": {
   "codemirror_mode": {
    "name": "ipython",
    "version": 3
   },
   "file_extension": ".py",
   "mimetype": "text/x-python",
   "name": "python",
   "nbconvert_exporter": "python",
   "pygments_lexer": "ipython3",
   "version": "3.9.7"
  }
 },
 "nbformat": 4,
 "nbformat_minor": 5
}
