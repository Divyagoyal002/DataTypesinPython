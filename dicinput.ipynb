{
 "cells": [
  {
   "cell_type": "code",
   "execution_count": 4,
   "id": "47334de5",
   "metadata": {},
   "outputs": [
    {
     "name": "stdout",
     "output_type": "stream",
     "text": [
      "enter numbers of entry5\n",
      "enter key and value for  entry 1\n",
      "enter keyname\n",
      "enter valuedivya\n",
      "enter key and value for  entry 2\n",
      "enter keyroll no\n",
      "enter value11\n",
      "enter key and value for  entry 3\n",
      "enter keysirname\n",
      "enter valuegoyal\n",
      "enter key and value for  entry 4\n",
      "enter keycourse\n",
      "enter valueds and ai\n",
      "enter key and value for  entry 5\n",
      "enter keysem\n",
      "enter value2\n",
      "{'name': 'divya', 'roll no': '11', 'sirname': 'goyal', 'course': 'ds and ai', 'sem': '2'}\n"
     ]
    }
   ],
   "source": [
    "a={}\n",
    "n=int(input(\"enter numbers of entry\"))\n",
    "for i in range(1, n+1):\n",
    "    print(\"enter key and value for  entry\",i)\n",
    "    k=input(\"enter key\")\n",
    "    v=input(\"enter value\")\n",
    "    a.update({k:v})\n",
    "print(a)    "
   ]
  },
  {
   "cell_type": "code",
   "execution_count": null,
   "id": "7a2be34f",
   "metadata": {},
   "outputs": [],
   "source": []
  }
 ],
 "metadata": {
  "kernelspec": {
   "display_name": "Python 3 (ipykernel)",
   "language": "python",
   "name": "python3"
  },
  "language_info": {
   "codemirror_mode": {
    "name": "ipython",
    "version": 3
   },
   "file_extension": ".py",
   "mimetype": "text/x-python",
   "name": "python",
   "nbconvert_exporter": "python",
   "pygments_lexer": "ipython3",
   "version": "3.9.7"
  }
 },
 "nbformat": 4,
 "nbformat_minor": 5
}
