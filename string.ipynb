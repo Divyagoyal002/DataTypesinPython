{
 "cells": [
  {
   "cell_type": "code",
   "execution_count": 4,
   "id": "f3d4c622",
   "metadata": {},
   "outputs": [
    {
     "name": "stdout",
     "output_type": "stream",
     "text": [
      "10hellopython\n"
     ]
    }
   ],
   "source": [
    "s=10\n",
    "s1=\"hello\"\n",
    "s2=\"python\"\n",
    "print(str(s)+s1+s2)           #s is integer which cannot be directly concate with string hence we will cast it in string str(s)"
   ]
  },
  {
   "cell_type": "code",
   "execution_count": 1,
   "id": "3f3729a7",
   "metadata": {},
   "outputs": [
    {
     "name": "stdout",
     "output_type": "stream",
     "text": [
      "Divya\n",
      "Goyal\n",
      "DivyaGoyal\n"
     ]
    }
   ],
   "source": [
    "f=\"Divya\"\n",
    "l=str(\"Goyal\")\n",
    "print(f)\n",
    "print(l)\n",
    "print(f+l)"
   ]
  },
  {
   "cell_type": "code",
   "execution_count": 47,
   "id": "85007451",
   "metadata": {},
   "outputs": [
    {
     "name": "stdout",
     "output_type": "stream",
     "text": [
      "3\n",
      "6\n"
     ]
    }
   ],
   "source": [
    "s=\"DATA\"\n",
    "s1=\"SCIENCE\"\n",
    "s2=\"Data\\t Science\\t Artificial\\t Intelligence\"\n",
    "#s=s.capitalize()\n",
    "#s1=s1.casefold()\n",
    "#s1=s1.lower()\n",
    "#s=s.center(20)\n",
    "#s=s.center(20,\"_\")\n",
    "#s=s.encode()\n",
    "#s2=s2.expandtabs(5)\n",
    "#print(s2.count('l'))\n",
    "#print(s.endswith(\"ta\"))\n",
    "#print(s2.find('l'))\n",
    "#print(s2.rfind('l'))\n",
    "print(s1.index('E'))\n",
    "print(s1.rindex('E'))\n",
    "#print(s)\n",
    "#print(s1)\n",
    "#print(s2)"
   ]
  },
  {
   "cell_type": "code",
   "execution_count": 34,
   "id": "fff18b97",
   "metadata": {},
   "outputs": [
    {
     "name": "stdout",
     "output_type": "stream",
     "text": [
      "['i love python and python is best language']\n",
      "welcome divya\n"
     ]
    }
   ],
   "source": [
    "Names=['divya','aashita','aman',' ']\n",
    "s=\"         2002    \"\n",
    "s1='i love python and python is best language'\n",
    "s2='DIVYA'\n",
    "s3='welcome {name}'\n",
    "#print(s.isalpha())\n",
    "#print(s.isnumeric())\n",
    "#print(s.join(Names))\n",
    "#print(s.rjust(20,\"_\"))\n",
    "#print(s.ljust(20,\"_\"))\n",
    "#print(s.lstrip())\n",
    "#print(s.rstrip())\n",
    "#print(s1.partition(\"python\"))\n",
    "#print(s1.rpartition(\"python\"))\n",
    "#print(s2.replace(\"D\",\"SH\"))\n",
    "#print(s1.split(' '))\n",
    "print(s1.splitlines())\n",
    "print(s3.format(name=\"divya\"))"
   ]
  },
  {
   "cell_type": "code",
   "execution_count": 49,
   "id": "6afb28f5",
   "metadata": {},
   "outputs": [
    {
     "name": "stdout",
     "output_type": "stream",
     "text": [
      "ShivENDRA\n",
      "We Are Learning Python\n",
      "wy xry zyxrning python\n",
      "SHIVENDRA\n",
      "sHIVendra\n",
      "s\n",
      "HI\n",
      "sHIVendra\n",
      "sIeda\n",
      "sHIVendra\n"
     ]
    }
   ],
   "source": [
    "s=\"sHIVendra\"\n",
    "s1=\"we are learning python\"\n",
    "t=s1.maketrans(\"ael\",\"xyz\")\n",
    "print(s.swapcase())\n",
    "print(s1.title())\n",
    "print(s1.translate(t))\n",
    "print(s.upper())\n",
    "print(s.zfill(9))\n"
   ]
  },
  {
   "cell_type": "code",
   "execution_count": 53,
   "id": "12b93a80",
   "metadata": {},
   "outputs": [
    {
     "name": "stdout",
     "output_type": "stream",
     "text": [
      "D\n",
      "iv\n",
      "DivyaGoyal\n",
      "Dvaoa\n",
      "DivyaGoyal\n",
      "Dvaoa\n",
      "Dva\n",
      "layoGayvi\n",
      "layoGayvi\n",
      "lyGyi\n",
      "ly\n"
     ]
    }
   ],
   "source": [
    "#slicing in increment\n",
    "s=\"DivyaGoyal\" \n",
    "print(s[0])\n",
    "print(s[1:3])\n",
    "print(s[0:])\n",
    "print(s[0:9:2])\n",
    "print(s[::])\n",
    "print(s[::2])\n",
    "print(s[:6:2])\n",
    "#slicing in decrement\n",
    "print(s[9:0:-1])\n",
    "print(s[:0:-1])\n",
    "print(s[::-2])\n",
    "print(s[:6:-2])"
   ]
  },
  {
   "cell_type": "code",
   "execution_count": null,
   "id": "e5c0314f",
   "metadata": {},
   "outputs": [],
   "source": [
    "#comparision of two python strings\n"
   ]
  }
 ],
 "metadata": {
  "kernelspec": {
   "display_name": "Python 3 (ipykernel)",
   "language": "python",
   "name": "python3"
  },
  "language_info": {
   "codemirror_mode": {
    "name": "ipython",
    "version": 3
   },
   "file_extension": ".py",
   "mimetype": "text/x-python",
   "name": "python",
   "nbconvert_exporter": "python",
   "pygments_lexer": "ipython3",
   "version": "3.9.7"
  }
 },
 "nbformat": 4,
 "nbformat_minor": 5
}
