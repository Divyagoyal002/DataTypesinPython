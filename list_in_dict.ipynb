{
 "cells": [
  {
   "cell_type": "code",
   "execution_count": 6,
   "id": "f7413f41",
   "metadata": {},
   "outputs": [
    {
     "name": "stdout",
     "output_type": "stream",
     "text": [
      "roll 2111\n",
      "name Divya\n",
      "address Indore\n",
      "marks\n",
      "89 78 98 87 86 \n",
      "result 87.6\n"
     ]
    }
   ],
   "source": [
    "D={\n",
    "    'roll':2111,\n",
    "    'name':'Divya',\n",
    "    'address':'Indore',\n",
    "    'marks':[89,78,98,87,86]\n",
    "}\n",
    "for i,j in D.items():\n",
    "    if type(j)!=list:\n",
    "        print(i,j)\n",
    "    else:\n",
    "        print(i)\n",
    "        for m in j:\n",
    "            print(m,end=\" \")\n",
    "        print()  \n",
    "        print(\"result\",sum(j)/len(j))"
   ]
  },
  {
   "cell_type": "code",
   "execution_count": null,
   "id": "a9beb7ed",
   "metadata": {},
   "outputs": [],
   "source": []
  },
  {
   "cell_type": "code",
   "execution_count": null,
   "id": "a8c6640c",
   "metadata": {},
   "outputs": [],
   "source": []
  }
 ],
 "metadata": {
  "kernelspec": {
   "display_name": "Python 3 (ipykernel)",
   "language": "python",
   "name": "python3"
  },
  "language_info": {
   "codemirror_mode": {
    "name": "ipython",
    "version": 3
   },
   "file_extension": ".py",
   "mimetype": "text/x-python",
   "name": "python",
   "nbconvert_exporter": "python",
   "pygments_lexer": "ipython3",
   "version": "3.9.7"
  }
 },
 "nbformat": 4,
 "nbformat_minor": 5
}
