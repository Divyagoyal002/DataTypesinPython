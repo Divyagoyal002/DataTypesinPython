{
 "cells": [
  {
   "cell_type": "code",
   "execution_count": 12,
   "id": "07223c0b",
   "metadata": {},
   "outputs": [
    {
     "name": "stdout",
     "output_type": "stream",
     "text": [
      "{'id': '111', 'name': 'ajay', 'mobile': '223344', 'address': 'indore'}\n"
     ]
    }
   ],
   "source": [
    "a={\n",
    "    'id':'111',           #id is a key and 111 is its value\n",
    "    'name':'ajay',\n",
    "    'mobile':'223344',\n",
    "    'address':'indore'\n",
    "}\n",
    "#a['id']=2111\n",
    "#a.clear()\n",
    "#s=a.copy()\n",
    "#s={}\n",
    "#s=s.fromkeys(a)\n",
    "#print(a)\n",
    "#t=a.pop(\"address\")\n",
    "#t=a.popitem()\n",
    "#print(t)\n",
    "a.setdefault('mobile',63587298767)\n",
    "print(a)"
   ]
  },
  {
   "cell_type": "code",
   "execution_count": 18,
   "id": "614a0ecb",
   "metadata": {},
   "outputs": [
    {
     "name": "stdout",
     "output_type": "stream",
     "text": [
      "{'id': '111', 'name': 'ajay', 'mobile': '223344', 'address': 'indore', 'branch': 'CS', 'year': '1', 'sem': '2'}\n"
     ]
    }
   ],
   "source": [
    "a={\n",
    "    'id':'111',           #id is a key here index is key\n",
    "    'name':'ajay',\n",
    "    'mobile':'223344',\n",
    "    'address':'indore'\n",
    "}\n",
    "ac={ 'branch':'CS',\n",
    "    'year':'1',\n",
    "    'sem':'2'\n",
    "   }\n",
    "a.update(ac)\n",
    "print(a)"
   ]
  },
  {
   "cell_type": "code",
   "execution_count": 17,
   "id": "d08d392b",
   "metadata": {},
   "outputs": [
    {
     "name": "stdout",
     "output_type": "stream",
     "text": [
      "all keys by loop\n",
      "id\n",
      "name\n",
      "mobile\n",
      "address\n",
      "all values by loop\n",
      "111\n",
      "ajay\n",
      "223344\n",
      "indore\n",
      "all values by get method\n",
      "111\n",
      "ajay\n",
      "223344\n",
      "indore\n",
      "all keys by keys method\n",
      "id\n",
      "name\n",
      "mobile\n",
      "address\n",
      "all values by value\n",
      "111\n",
      "ajay\n",
      "223344\n",
      "indore\n"
     ]
    }
   ],
   "source": [
    "a={\n",
    "    'id':'111',           #id is a key here index is key\n",
    "    'name':'ajay',\n",
    "    'mobile':'223344',\n",
    "    'address':'indore'\n",
    "}\n",
    "print(\"all keys by loop\")\n",
    "for i in a:\n",
    "    print(i)\n",
    "print(\"all values by loop\")\n",
    "for i in a:\n",
    "    print(a[i])\n",
    "print(\"all values by get method\")\n",
    "for i in a:\n",
    "    print(a.get(i))\n",
    "print(\"all keys by keys method\")\n",
    "for i in a.keys():\n",
    "    print(i)\n",
    "print(\"all values by value\")\n",
    "for i in a.values():\n",
    "    print(i)"
   ]
  },
  {
   "cell_type": "code",
   "execution_count": 2,
   "id": "34f639d6",
   "metadata": {},
   "outputs": [
    {
     "name": "stdout",
     "output_type": "stream",
     "text": [
      "id 111\n",
      "name ajay\n",
      "mobile 223344\n",
      "address indore\n"
     ]
    }
   ],
   "source": [
    "a={\n",
    "    'id':'111',           #id is a key here index is key\n",
    "    'name':'ajay',\n",
    "    'mobile':'223344',\n",
    "    'address':'indore'\n",
    "}\n",
    "for i ,j in a.items():\n",
    "    print(i,j)"
   ]
  },
  {
   "cell_type": "code",
   "execution_count": null,
   "id": "7c6126e9",
   "metadata": {},
   "outputs": [],
   "source": []
  }
 ],
 "metadata": {
  "kernelspec": {
   "display_name": "Python 3 (ipykernel)",
   "language": "python",
   "name": "python3"
  },
  "language_info": {
   "codemirror_mode": {
    "name": "ipython",
    "version": 3
   },
   "file_extension": ".py",
   "mimetype": "text/x-python",
   "name": "python",
   "nbconvert_exporter": "python",
   "pygments_lexer": "ipython3",
   "version": "3.9.7"
  }
 },
 "nbformat": 4,
 "nbformat_minor": 5
}
