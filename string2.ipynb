{
 "cells": [
  {
   "cell_type": "code",
   "execution_count": 2,
   "id": "5f9ee778",
   "metadata": {},
   "outputs": [
    {
     "name": "stdout",
     "output_type": "stream",
     "text": [
      "True\n",
      "False\n",
      "True\n",
      "False\n",
      "False\n",
      "True\n"
     ]
    }
   ],
   "source": [
    "s=\"hello\"\n",
    "s1=\"hello\"\n",
    "s2=\"python\"\n",
    "print(s==s1)\n",
    "print(s==s2)\n",
    "print(s is s1)\n",
    "print(s is s2)\n",
    "print(s is not s1)\n",
    "print(s is not s2)"
   ]
  },
  {
   "cell_type": "code",
   "execution_count": 4,
   "id": "b302f1a5",
   "metadata": {},
   "outputs": [
    {
     "name": "stdout",
     "output_type": "stream",
     "text": [
      "enter a stringdivya\n",
      "divya not a pallindrome\n"
     ]
    }
   ],
   "source": [
    "#user inpit\n",
    "s=input(\"enter a string\")\n",
    "r=s[ : :-1]  #finding reverse of a string\n",
    "if s==r:\n",
    "    print(s,\"is pallindrome\")\n",
    "else:\n",
    "    print(s,\"not a pallindrome\")\n",
    "    \n"
   ]
  },
  {
   "cell_type": "code",
   "execution_count": null,
   "id": "f1eeee44",
   "metadata": {},
   "outputs": [],
   "source": []
  }
 ],
 "metadata": {
  "kernelspec": {
   "display_name": "Python 3 (ipykernel)",
   "language": "python",
   "name": "python3"
  },
  "language_info": {
   "codemirror_mode": {
    "name": "ipython",
    "version": 3
   },
   "file_extension": ".py",
   "mimetype": "text/x-python",
   "name": "python",
   "nbconvert_exporter": "python",
   "pygments_lexer": "ipython3",
   "version": "3.9.7"
  }
 },
 "nbformat": 4,
 "nbformat_minor": 5
}
