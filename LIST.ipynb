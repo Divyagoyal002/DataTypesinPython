{
 "cells": [
  {
   "cell_type": "code",
   "execution_count": 1,
   "id": "f026531e",
   "metadata": {},
   "outputs": [
    {
     "name": "stdout",
     "output_type": "stream",
     "text": [
      "[1, 2, 3, 4, 5, 6, 7, 8, 9]\n"
     ]
    }
   ],
   "source": [
    "liist1=list(range(1,10))\n",
    "print(liist1)"
   ]
  },
  {
   "cell_type": "code",
   "execution_count": 2,
   "id": "8c1bd09b",
   "metadata": {},
   "outputs": [
    {
     "name": "stdout",
     "output_type": "stream",
     "text": [
      "[-10, -9, -8, -7, -6, -5, -4, -3, -2, -1, 0, 1, 2, 3, 4, 5, 6, 7, 8, 9]\n"
     ]
    }
   ],
   "source": [
    "liist2=list(range(-10,10))\n",
    "print(liist2)"
   ]
  },
  {
   "cell_type": "code",
   "execution_count": 4,
   "id": "a51d89d9",
   "metadata": {},
   "outputs": [
    {
     "name": "stdout",
     "output_type": "stream",
     "text": [
      "[10, 8, 6, 4, 2, 0, -2, -4, -6, -8]\n"
     ]
    }
   ],
   "source": [
    "liist3=list(range(10,-10,-2))\n",
    "print(liist3)"
   ]
  },
  {
   "cell_type": "code",
   "execution_count": 6,
   "id": "b4aa40d0",
   "metadata": {},
   "outputs": [
    {
     "name": "stdout",
     "output_type": "stream",
     "text": [
      "[-100, -80, -60, -40, -20, 0, 20, 40, 60, 80]\n"
     ]
    }
   ],
   "source": [
    "liist4=list(range(-100,100,20))\n",
    "print(liist4)"
   ]
  },
  {
   "cell_type": "code",
   "execution_count": 1,
   "id": "b69e3bca",
   "metadata": {},
   "outputs": [
    {
     "name": "stdout",
     "output_type": "stream",
     "text": [
      "first list:\n",
      " [-3, -2, -1, 0, 1, 2, 3, 4]\n"
     ]
    }
   ],
   "source": [
    "list2=list(range(-3,5))\n",
    "print(\"first list:\\n\",list2)"
   ]
  },
  {
   "cell_type": "code",
   "execution_count": 16,
   "id": "28d03bbb",
   "metadata": {},
   "outputs": [
    {
     "name": "stdout",
     "output_type": "stream",
     "text": [
      "Max  70\n",
      "Min  10\n",
      "length  9\n",
      "Count of 30 is  2\n",
      "[10, 30, 40, 30, 20, 50, 60, 70] length  8\n",
      "[10, 30, 40, 30, 20, 50, 60, 70, 100] length  9\n",
      "Inseet 120 at index 5 [10, 30, 40, 30, 20, 120, 50, 60, 70, 100]\n",
      "pop function returns last element from list 100\n",
      "[10, 30, 40, 30, 20, 120, 50, 60, 70]\n",
      "Reverse of list [70, 60, 50, 120, 20, 30, 40, 30, 10]\n",
      "extended list  [70, 60, 50, 120, 20, 30, 40, 30, 10, 45, 65, 23, 78]\n",
      "sorted list  [10, 20, 23, 30, 30, 40, 45, 50, 60, 65, 70, 78, 120]\n"
     ]
    }
   ],
   "source": [
    "age=[10,20,30,40,30,20,50,60,70]\n",
    "print(\"Max \",max(age))\n",
    "print(\"Min \",min(age))\n",
    "print(\"length \",len(age))\n",
    "print(\"Count of 30 is \",age.count(30))\n",
    "age.remove(20)\n",
    "print(age,\"length \",len(age))\n",
    "age.append(100)\n",
    "print(age,\"length \",len(age))\n",
    "age.insert(5,120)\n",
    "print(\"Inseet 120 at index 5\",age)\n",
    "print(\"pop function returns last element from list\",age.pop())\n",
    "print(age)\n",
    "age.reverse()\n",
    "print(\"Reverse of list\",age)\n",
    "age2=[45,65,23,78]\n",
    "age.extend(age2)\n",
    "print(\"extended list \",age)\n",
    "age.sort()\n",
    "print(\"sorted list \", age)"
   ]
  },
  {
   "cell_type": "code",
   "execution_count": 1,
   "id": "d14f3e76",
   "metadata": {},
   "outputs": [
    {
     "name": "stdout",
     "output_type": "stream",
     "text": [
      "Enter the number of countries4\n",
      "Enter name of countryfg\n",
      "Enter name of countryr6tu\n",
      "Enter name of countrydxx\n",
      "Enter name of countryiuiu\n",
      "['dxx', 'fg', 'iuiu', 'r6tu']\n",
      "The sorted order is:  dxx,fg,iuiu,r6tu\n"
     ]
    }
   ],
   "source": [
    "nameList=[]\n",
    "num=int(input(\"Enter the number of countries\"))\n",
    "for i in range(0,num):\n",
    "    name=input(\"Enter name of country\")\n",
    "    nameList.append(name)\n",
    "nameList.sort()\n",
    "print(nameList)\n",
    "print(\"The sorted order is: \",','.join(nameList))"
   ]
  },
  {
   "cell_type": "code",
   "execution_count": 20,
   "id": "eb01519c",
   "metadata": {},
   "outputs": [
    {
     "data": {
      "text/plain": [
       "[90, 80, 60, 60, 50, 40, 40, 40, 30, 30, 30, 20]"
      ]
     },
     "execution_count": 20,
     "metadata": {},
     "output_type": "execute_result"
    }
   ],
   "source": [
    "test=[80,50,40,20,30,40,30,60,30,60,90,40]\n",
    "print(\"\",sorted(test)\n",
    "print(\"\",sorted(test,reverse=True)"
   ]
  },
  {
   "cell_type": "code",
   "execution_count": 13,
   "id": "8140044c",
   "metadata": {},
   "outputs": [
    {
     "name": "stdout",
     "output_type": "stream",
     "text": [
      "[30, 40]\n"
     ]
    }
   ],
   "source": [
    "print(test[4:6])"
   ]
  },
  {
   "cell_type": "code",
   "execution_count": 2,
   "id": "44e7565c",
   "metadata": {},
   "outputs": [
    {
     "name": "stdout",
     "output_type": "stream",
     "text": [
      "[60, 90, 40]\n"
     ]
    }
   ],
   "source": [
    "print(test[9:])"
   ]
  },
  {
   "cell_type": "code",
   "execution_count": 3,
   "id": "733f5987",
   "metadata": {},
   "outputs": [
    {
     "name": "stdout",
     "output_type": "stream",
     "text": [
      "[60, 90, 40]\n"
     ]
    }
   ],
   "source": [
    "print(test[-3:])"
   ]
  },
  {
   "cell_type": "code",
   "execution_count": 4,
   "id": "f5386819",
   "metadata": {},
   "outputs": [
    {
     "name": "stdout",
     "output_type": "stream",
     "text": [
      "90\n"
     ]
    }
   ],
   "source": [
    "print(max(test))"
   ]
  },
  {
   "cell_type": "code",
   "execution_count": 5,
   "id": "250dc4f7",
   "metadata": {},
   "outputs": [
    {
     "name": "stdout",
     "output_type": "stream",
     "text": [
      "570\n"
     ]
    }
   ],
   "source": [
    "print(sum(test))"
   ]
  },
  {
   "cell_type": "code",
   "execution_count": 7,
   "id": "df2e5cb4",
   "metadata": {},
   "outputs": [
    {
     "name": "stdout",
     "output_type": "stream",
     "text": [
      "1\n"
     ]
    }
   ],
   "source": [
    "print(test.count(50))"
   ]
  },
  {
   "cell_type": "code",
   "execution_count": 8,
   "id": "fb9c568a",
   "metadata": {},
   "outputs": [
    {
     "name": "stdout",
     "output_type": "stream",
     "text": [
      "False\n"
     ]
    }
   ],
   "source": [
    "print(70 in test)"
   ]
  },
  {
   "cell_type": "code",
   "execution_count": 9,
   "id": "1e9141e2",
   "metadata": {},
   "outputs": [
    {
     "name": "stdout",
     "output_type": "stream",
     "text": [
      "40\n"
     ]
    }
   ],
   "source": [
    "print(test.pop())"
   ]
  },
  {
   "cell_type": "code",
   "execution_count": 10,
   "id": "ca2257bc",
   "metadata": {},
   "outputs": [
    {
     "name": "stdout",
     "output_type": "stream",
     "text": [
      "11\n"
     ]
    }
   ],
   "source": [
    "print(len(test))"
   ]
  },
  {
   "cell_type": "code",
   "execution_count": 11,
   "id": "b0d623fd",
   "metadata": {},
   "outputs": [
    {
     "name": "stdout",
     "output_type": "stream",
     "text": [
      "2\n"
     ]
    }
   ],
   "source": [
    "print(test.index(40))"
   ]
  },
  {
   "cell_type": "code",
   "execution_count": null,
   "id": "87fe390b",
   "metadata": {},
   "outputs": [],
   "source": []
  }
 ],
 "metadata": {
  "kernelspec": {
   "display_name": "Python 3 (ipykernel)",
   "language": "python",
   "name": "python3"
  },
  "language_info": {
   "codemirror_mode": {
    "name": "ipython",
    "version": 3
   },
   "file_extension": ".py",
   "mimetype": "text/x-python",
   "name": "python",
   "nbconvert_exporter": "python",
   "pygments_lexer": "ipython3",
   "version": "3.9.7"
  }
 },
 "nbformat": 4,
 "nbformat_minor": 5
}
