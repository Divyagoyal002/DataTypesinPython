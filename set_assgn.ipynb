{
 "cells": [
  {
   "cell_type": "code",
   "execution_count": 3,
   "id": "9e328283",
   "metadata": {},
   "outputs": [
    {
     "name": "stdout",
     "output_type": "stream",
     "text": [
      "enter a size of set6\n",
      "enter 6 elements\n",
      "3\n",
      "4\n",
      "5\n",
      "6\n",
      "2\n",
      "4\n",
      "{2, 3, 4, 5, 6}\n"
     ]
    }
   ],
   "source": [
    "a=set()\n",
    "s=int(input(\"enter a size of set\"))\n",
    "print(\"enter\",s,\"elements\")\n",
    "for i in range(1,s+1):\n",
    "    t=int(input())\n",
    "    a.add(t)\n",
    "print(a)    \n"
   ]
  },
  {
   "cell_type": "code",
   "execution_count": 27,
   "id": "717a4a42",
   "metadata": {},
   "outputs": [
    {
     "name": "stdout",
     "output_type": "stream",
     "text": [
      "1\n",
      "2\n",
      "12\n",
      "288\n",
      "34560\n"
     ]
    }
   ],
   "source": [
    "#find factorial of each element of set\n",
    "s={1,2,3,4,5}\n",
    "a=list(s)\n",
    "f=1\n",
    "for i in a:\n",
    "    for n in range(1,i+1):\n",
    "        f=f*n\n",
    "    print(f)"
   ]
  },
  {
   "cell_type": "code",
   "execution_count": 30,
   "id": "0b53e021",
   "metadata": {},
   "outputs": [
    {
     "name": "stdout",
     "output_type": "stream",
     "text": [
      "enter size os set3\n",
      "enter 3 elements in set\n",
      "1\n",
      "2\n",
      "3\n",
      "6\n"
     ]
    }
   ],
   "source": [
    "#sum of elemnts of set\n",
    "s=set()\n",
    "size=int(input(\"enter size os set\"))\n",
    "print(\"enter\",size,\"elements in set\")\n",
    "for i in range(1,size+1):\n",
    "    ele=int(input())\n",
    "    s.add(ele)\n",
    "a=list(s)\n",
    "sum(a)\n",
    "print(sum(a))"
   ]
  },
  {
   "cell_type": "code",
   "execution_count": 34,
   "id": "4e9a4a86",
   "metadata": {},
   "outputs": [
    {
     "name": "stdout",
     "output_type": "stream",
     "text": [
      "enter a size of set4\n",
      "enter 4 elements\n",
      "23\n",
      "32\n",
      "4\n",
      "4\n",
      "{32, 4, 23}\n",
      "enter a size of set5\n",
      "enter 5 elements\n",
      "323\n",
      "4\n",
      "23\n",
      "21\n",
      "12\n",
      "{323, 4, 12, 21, 23}\n",
      "intersection: {4, 23}\n"
     ]
    }
   ],
   "source": [
    "#how can we find out common elements of two sets:intersection\n",
    "\n",
    "\n",
    "a=set()\n",
    "sa=int(input(\"enter a size of set\"))\n",
    "print(\"enter\",sa,\"elements\")\n",
    "for i in range(1,sa+1):\n",
    "    ea=int(input())\n",
    "    a.add(ea)\n",
    "print(a) \n",
    "b=set()\n",
    "sb=int(input(\"enter a size of set\"))\n",
    "print(\"enter\",sb,\"elements\")\n",
    "for i in range(1,sb+1):\n",
    "    eb=int(input())\n",
    "    b.add(eb)\n",
    "print(b) \n",
    "c=a.intersection(b)\n",
    "print(\"intersection:\",c)"
   ]
  },
  {
   "cell_type": "code",
   "execution_count": 46,
   "id": "4e8deeb6",
   "metadata": {},
   "outputs": [
    {
     "name": "stdout",
     "output_type": "stream",
     "text": [
      "None\n"
     ]
    }
   ],
   "source": [
    "#find second largest element of set\n",
    "a=[3,5,23,12,67,54]\n",
    "c=a.sort(reverse=True)\n",
    "print(c)"
   ]
  },
  {
   "cell_type": "code",
   "execution_count": null,
   "id": "0482e40c",
   "metadata": {},
   "outputs": [],
   "source": []
  }
 ],
 "metadata": {
  "kernelspec": {
   "display_name": "Python 3 (ipykernel)",
   "language": "python",
   "name": "python3"
  },
  "language_info": {
   "codemirror_mode": {
    "name": "ipython",
    "version": 3
   },
   "file_extension": ".py",
   "mimetype": "text/x-python",
   "name": "python",
   "nbconvert_exporter": "python",
   "pygments_lexer": "ipython3",
   "version": "3.9.7"
  }
 },
 "nbformat": 4,
 "nbformat_minor": 5
}
