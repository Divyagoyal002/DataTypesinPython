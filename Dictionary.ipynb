{
 "cells": [
  {
   "cell_type": "markdown",
   "id": "d3119231",
   "metadata": {},
   "source": [
    "**Creating dictioary in 5 different ways**"
   ]
  },
  {
   "cell_type": "code",
   "execution_count": 11,
   "id": "26adc4df",
   "metadata": {},
   "outputs": [
    {
     "name": "stdout",
     "output_type": "stream",
     "text": [
      "{'NAme': 'Divya', 'age': 20, 'Rno': 111}\n"
     ]
    }
   ],
   "source": [
    "d1={\"NAme\":\"Divya\",\"age\":20,\"Rno\":111}\n",
    "print(d1)"
   ]
  },
  {
   "cell_type": "code",
   "execution_count": 3,
   "id": "c22014c6",
   "metadata": {},
   "outputs": [
    {
     "name": "stdout",
     "output_type": "stream",
     "text": [
      "{'NAme': 'Divya', 'age': 20, 'Rno': 111}\n"
     ]
    }
   ],
   "source": [
    "d2=dict({\"NAme\":\"Divya\",\"age\":20,\"Rno\":111})\n",
    "print(d2)"
   ]
  },
  {
   "cell_type": "code",
   "execution_count": 6,
   "id": "15aac656",
   "metadata": {},
   "outputs": [
    {
     "name": "stdout",
     "output_type": "stream",
     "text": [
      "{'NAme': 'Divya', 'age': 20, 'Rno': 111}\n"
     ]
    }
   ],
   "source": [
    "d3=dict(NAme=\"Divya\",age=20,Rno=111)\n",
    "print(d3)"
   ]
  },
  {
   "cell_type": "code",
   "execution_count": 2,
   "id": "a6aedb1f",
   "metadata": {},
   "outputs": [
    {
     "name": "stdout",
     "output_type": "stream",
     "text": [
      "{'NAme': 'Divya', 'age': 20, 'Rno': 111}\n"
     ]
    }
   ],
   "source": [
    "d4=dict([(\"NAme\",\"Divya\"),(\"age\",20),(\"Rno\",111)])\n",
    "print(d4)"
   ]
  },
  {
   "cell_type": "code",
   "execution_count": 9,
   "id": "d341b13a",
   "metadata": {},
   "outputs": [
    {
     "name": "stdout",
     "output_type": "stream",
     "text": [
      "{'NAme': 'Divya', 'age': 20, 'Rno': 111}\n"
     ]
    }
   ],
   "source": [
    "d5=dict(zip([\"NAme\",\"age\",\"Rno\"],[\"Divya\",20,111]))\n",
    "print(d5)"
   ]
  },
  {
   "cell_type": "code",
   "execution_count": 13,
   "id": "39cebe50",
   "metadata": {},
   "outputs": [
    {
     "name": "stdout",
     "output_type": "stream",
     "text": [
      "Does all the five ways create same dictionary True\n"
     ]
    }
   ],
   "source": [
    "print(\"Does all the five ways create same dictionary\",d1==d2==d3==d4==d5)"
   ]
  },
  {
   "cell_type": "markdown",
   "id": "4b110012",
   "metadata": {},
   "source": [
    "**program to create dictionary using range function**"
   ]
  },
  {
   "cell_type": "code",
   "execution_count": 15,
   "id": "556138d3",
   "metadata": {},
   "outputs": [
    {
     "data": {
      "text/plain": [
       "{'a': 0, 'b': 1, 'c': 2, 'd': 3, 'e': 4}"
      ]
     },
     "execution_count": 15,
     "metadata": {},
     "output_type": "execute_result"
    }
   ],
   "source": [
    "d6=dict(zip(['a','b','c','d','e'],range(5)))\n",
    "d6"
   ]
  },
  {
   "cell_type": "code",
   "execution_count": 3,
   "id": "e18dbac7",
   "metadata": {},
   "outputs": [],
   "source": [
    "book=dict({\"Name\":\"truth\",\"Author\":\"Dr Divya\",\"Genre\":\"Motivation\",\"Publisher\":\"pvt ltd\"})"
   ]
  },
  {
   "cell_type": "code",
   "execution_count": 4,
   "id": "349043e7",
   "metadata": {},
   "outputs": [
    {
     "name": "stdout",
     "output_type": "stream",
     "text": [
      "keys  dict_keys(['Name', 'Author', 'Genre', 'Publisher'])\n"
     ]
    }
   ],
   "source": [
    "print(\"keys \",book.keys())"
   ]
  },
  {
   "cell_type": "code",
   "execution_count": 5,
   "id": "6df47460",
   "metadata": {},
   "outputs": [
    {
     "name": "stdout",
     "output_type": "stream",
     "text": [
      "values dict_values(['truth', 'Dr Divya', 'Motivation', 'pvt ltd'])\n"
     ]
    }
   ],
   "source": [
    "print(\"values\",book.values())"
   ]
  },
  {
   "cell_type": "code",
   "execution_count": 6,
   "id": "b6c9fa4f",
   "metadata": {},
   "outputs": [
    {
     "name": "stdout",
     "output_type": "stream",
     "text": [
      "values dict_items([('Name', 'truth'), ('Author', 'Dr Divya'), ('Genre', 'Motivation'), ('Publisher', 'pvt ltd')])\n"
     ]
    }
   ],
   "source": [
    "print(\"values\",book.items())"
   ]
  },
  {
   "cell_type": "code",
   "execution_count": 7,
   "id": "1a6640af",
   "metadata": {},
   "outputs": [
    {
     "name": "stdout",
     "output_type": "stream",
     "text": [
      "Enter the key (Name,Publisher,Author,Genre )Genre\n",
      "value of key  Genre is Motivation\n"
     ]
    }
   ],
   "source": [
    "k=input(\"Enter the key (Name,Publisher,Author,Genre )\")\n",
    "print(\"value of key \",k,\"is\",book[k])"
   ]
  },
  {
   "cell_type": "code",
   "execution_count": 8,
   "id": "336b9df9",
   "metadata": {},
   "outputs": [],
   "source": [
    "book[\"Publish_date\"]=\"jan23\""
   ]
  },
  {
   "cell_type": "code",
   "execution_count": 32,
   "id": "ea2a595b",
   "metadata": {},
   "outputs": [
    {
     "data": {
      "text/plain": [
       "{'Name': 'truth',\n",
       " 'Author': 'Dr Divya',\n",
       " 'Genre': 'Motivation',\n",
       " 'Publisher': 'pvt ltd',\n",
       " 'Publish_date': 'jan23'}"
      ]
     },
     "execution_count": 32,
     "metadata": {},
     "output_type": "execute_result"
    }
   ],
   "source": [
    "book"
   ]
  },
  {
   "cell_type": "code",
   "execution_count": 43,
   "id": "a0661587",
   "metadata": {},
   "outputs": [],
   "source": [
    "book.update({'Add':\"new delhi\"})"
   ]
  },
  {
   "cell_type": "code",
   "execution_count": 34,
   "id": "aacfe874",
   "metadata": {},
   "outputs": [],
   "source": [
    "book[\"Publisher\"]=\"Delhi Publications\""
   ]
  },
  {
   "cell_type": "code",
   "execution_count": 45,
   "id": "18e6e3b5",
   "metadata": {},
   "outputs": [
    {
     "data": {
      "text/plain": [
       "'Gurgaon'"
      ]
     },
     "execution_count": 45,
     "metadata": {},
     "output_type": "execute_result"
    }
   ],
   "source": [
    "book.setdefault('City',\"Gurgaon\")"
   ]
  },
  {
   "cell_type": "code",
   "execution_count": 46,
   "id": "0033dab1",
   "metadata": {},
   "outputs": [
    {
     "data": {
      "text/plain": [
       "{'Name': 'truth',\n",
       " 'Author': 'Dr Divya',\n",
       " 'Genre': 'Motivation',\n",
       " 'Publisher': 'Delhi Publications',\n",
       " 'Publish_date': 'jan23',\n",
       " 'add': 'new delhi',\n",
       " 'city': 'Gurgaon',\n",
       " 'Add': 'new delhi',\n",
       " 'City': 'Gurgaon'}"
      ]
     },
     "execution_count": 46,
     "metadata": {},
     "output_type": "execute_result"
    }
   ],
   "source": [
    "book"
   ]
  },
  {
   "cell_type": "code",
   "execution_count": 9,
   "id": "5775199c",
   "metadata": {},
   "outputs": [
    {
     "name": "stdout",
     "output_type": "stream",
     "text": [
      "pvt ltd\n",
      "pvt ltd\n"
     ]
    }
   ],
   "source": [
    "#GET Function\n",
    "print(book.get('Publisher'))\n",
    "print(book[\"Publisher\"])"
   ]
  },
  {
   "cell_type": "code",
   "execution_count": 49,
   "id": "38691a0e",
   "metadata": {},
   "outputs": [
    {
     "name": "stdout",
     "output_type": "stream",
     "text": [
      "9\n"
     ]
    }
   ],
   "source": [
    "print(len(book))"
   ]
  },
  {
   "cell_type": "code",
   "execution_count": 52,
   "id": "506d4b11",
   "metadata": {},
   "outputs": [
    {
     "name": "stdout",
     "output_type": "stream",
     "text": [
      "['Add', 'Author', 'City', 'Genre', 'Name', 'Publish_date', 'Publisher']\n"
     ]
    }
   ],
   "source": [
    "print(sorted(book))"
   ]
  },
  {
   "cell_type": "code",
   "execution_count": 50,
   "id": "3ce957ff",
   "metadata": {},
   "outputs": [
    {
     "data": {
      "text/plain": [
       "'new delhi'"
      ]
     },
     "execution_count": 50,
     "metadata": {},
     "output_type": "execute_result"
    }
   ],
   "source": [
    "book.pop('add')"
   ]
  },
  {
   "cell_type": "code",
   "execution_count": 51,
   "id": "22208950",
   "metadata": {},
   "outputs": [
    {
     "data": {
      "text/plain": [
       "'Gurgaon'"
      ]
     },
     "execution_count": 51,
     "metadata": {},
     "output_type": "execute_result"
    }
   ],
   "source": [
    "book.pop('city')"
   ]
  },
  {
   "cell_type": "code",
   "execution_count": 53,
   "id": "ee18a11b",
   "metadata": {},
   "outputs": [
    {
     "data": {
      "text/plain": [
       "{'Name': 'truth',\n",
       " 'Author': 'Dr Divya',\n",
       " 'Genre': 'Motivation',\n",
       " 'Publisher': 'Delhi Publications',\n",
       " 'Publish_date': 'jan23',\n",
       " 'Add': 'new delhi',\n",
       " 'City': 'Gurgaon'}"
      ]
     },
     "execution_count": 53,
     "metadata": {},
     "output_type": "execute_result"
    }
   ],
   "source": [
    "book"
   ]
  },
  {
   "cell_type": "code",
   "execution_count": 54,
   "id": "5c6618eb",
   "metadata": {},
   "outputs": [],
   "source": [
    "book2=book.copy()"
   ]
  },
  {
   "cell_type": "code",
   "execution_count": 55,
   "id": "4048c51f",
   "metadata": {},
   "outputs": [],
   "source": [
    "book2['Name']='Python'"
   ]
  },
  {
   "cell_type": "code",
   "execution_count": 56,
   "id": "04c93e1f",
   "metadata": {},
   "outputs": [
    {
     "data": {
      "text/plain": [
       "{'Name': 'Python',\n",
       " 'Author': 'Dr Divya',\n",
       " 'Genre': 'Motivation',\n",
       " 'Publisher': 'Delhi Publications',\n",
       " 'Publish_date': 'jan23',\n",
       " 'Add': 'new delhi',\n",
       " 'City': 'Gurgaon'}"
      ]
     },
     "execution_count": 56,
     "metadata": {},
     "output_type": "execute_result"
    }
   ],
   "source": [
    "book2"
   ]
  },
  {
   "cell_type": "code",
   "execution_count": 57,
   "id": "cda866c9",
   "metadata": {},
   "outputs": [],
   "source": [
    "book2.clear()"
   ]
  },
  {
   "cell_type": "code",
   "execution_count": 58,
   "id": "d351bb8e",
   "metadata": {},
   "outputs": [
    {
     "data": {
      "text/plain": [
       "{}"
      ]
     },
     "execution_count": 58,
     "metadata": {},
     "output_type": "execute_result"
    }
   ],
   "source": [
    "book2"
   ]
  },
  {
   "cell_type": "code",
   "execution_count": 59,
   "id": "db1ae2e2",
   "metadata": {},
   "outputs": [
    {
     "name": "stdout",
     "output_type": "stream",
     "text": [
      "False\n"
     ]
    }
   ],
   "source": [
    "print('Address' in book)"
   ]
  },
  {
   "cell_type": "code",
   "execution_count": 60,
   "id": "d2b1effc",
   "metadata": {},
   "outputs": [
    {
     "name": "stdout",
     "output_type": "stream",
     "text": [
      "True\n"
     ]
    }
   ],
   "source": [
    "print('Add' in book)"
   ]
  },
  {
   "cell_type": "code",
   "execution_count": 62,
   "id": "3e414b11",
   "metadata": {},
   "outputs": [
    {
     "name": "stdout",
     "output_type": "stream",
     "text": [
      "enter the last number5\n",
      "{1: 1, 2: 8, 3: 27, 4: 64, 5: 125}\n"
     ]
    }
   ],
   "source": [
    "cube={}\n",
    "end=int(input(\"enter the last number\"))\n",
    "for i in range(1,end+1):\n",
    "    cube[i]=i*i*i\n",
    "print(cube)"
   ]
  },
  {
   "cell_type": "code",
   "execution_count": 64,
   "id": "983cbaa5",
   "metadata": {},
   "outputs": [
    {
     "name": "stdout",
     "output_type": "stream",
     "text": [
      "Details of the product are dict_items([('Book', 1200), ('Shirt', 1000), ('Mobile', 5500), ('Laptop', 75000)])\n"
     ]
    }
   ],
   "source": [
    "product={'Book':1200,'Shirt':1000,'Mobile':5500,'Laptop':75000}\n",
    "print(\"Details of the product are\",product.items())"
   ]
  },
  {
   "cell_type": "code",
   "execution_count": 69,
   "id": "b7a5a94f",
   "metadata": {},
   "outputs": [
    {
     "name": "stdout",
     "output_type": "stream",
     "text": [
      "Total Amount of all products 82700 /- Rs.\n"
     ]
    }
   ],
   "source": [
    "print(\"Total Amount of all products\",sum(product.values()),\"/- Rs.\")"
   ]
  },
  {
   "cell_type": "code",
   "execution_count": 73,
   "id": "ebf4f2b7",
   "metadata": {},
   "outputs": [
    {
     "name": "stdout",
     "output_type": "stream",
     "text": [
      "[('Book', 1200), ('Laptop', 75000), ('Mobile', 5500), ('Shirt', 1000)]\n"
     ]
    }
   ],
   "source": [
    "print(sorted(product.items()))"
   ]
  },
  {
   "cell_type": "code",
   "execution_count": 76,
   "id": "5945e51b",
   "metadata": {},
   "outputs": [
    {
     "name": "stdout",
     "output_type": "stream",
     "text": [
      "The value for Book is 1200\n",
      "The value for Laptop is 75000\n",
      "The value for Mobile is 5500\n",
      "The value for Shirt is 1000\n"
     ]
    }
   ],
   "source": [
    "for key,value in sorted(product.items()):\n",
    "    print(\"The value for\",key,\"is\",value)"
   ]
  },
  {
   "cell_type": "code",
   "execution_count": 71,
   "id": "50550574",
   "metadata": {},
   "outputs": [
    {
     "name": "stdout",
     "output_type": "stream",
     "text": [
      "{'Upper': 5, 'Lower': 23}\n"
     ]
    }
   ],
   "source": [
    "string=\"The Best Way out is Always Through.\"\n",
    "d={'Upper':0,\"Lower\":0}\n",
    "for i in string:\n",
    "    if i.isupper():\n",
    "        d['Upper']+=1\n",
    "    elif i.islower():\n",
    "        d['Lower']+=1\n",
    "    else:\n",
    "        pass\n",
    "print(d)\n",
    "        \n"
   ]
  },
  {
   "cell_type": "code",
   "execution_count": null,
   "id": "652d6564",
   "metadata": {},
   "outputs": [],
   "source": []
  }
 ],
 "metadata": {
  "kernelspec": {
   "display_name": "Python 3 (ipykernel)",
   "language": "python",
   "name": "python3"
  },
  "language_info": {
   "codemirror_mode": {
    "name": "ipython",
    "version": 3
   },
   "file_extension": ".py",
   "mimetype": "text/x-python",
   "name": "python",
   "nbconvert_exporter": "python",
   "pygments_lexer": "ipython3",
   "version": "3.9.7"
  }
 },
 "nbformat": 4,
 "nbformat_minor": 5
}
